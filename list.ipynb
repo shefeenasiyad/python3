{
  "nbformat": 4,
  "nbformat_minor": 0,
  "metadata": {
    "colab": {
      "provenance": []
    },
    "kernelspec": {
      "name": "python3",
      "display_name": "Python 3"
    },
    "language_info": {
      "name": "python"
    }
  },
  "cells": [
    {
      "cell_type": "markdown",
      "source": [
        "1.sum of all elements in a list of integers"
      ],
      "metadata": {
        "id": "1bhC3-Plft6Z"
      }
    },
    {
      "cell_type": "code",
      "execution_count": null,
      "metadata": {
        "colab": {
          "base_uri": "https://localhost:8080/"
        },
        "id": "mkGFLQxHfjrJ",
        "outputId": "eef03ba4-d76d-4eed-a58d-13cf0eeeaedd"
      },
      "outputs": [
        {
          "output_type": "stream",
          "name": "stdout",
          "text": [
            "[1, 2, 3, 4, 5]\n",
            "15\n"
          ]
        }
      ],
      "source": [
        "num=[1,2,3,4,5]\n",
        "print(num)\n",
        "result=num[0]+num[1]+num[2]+num[3]+num[4]\n",
        "print(result)"
      ]
    },
    {
      "cell_type": "markdown",
      "source": [
        "2.print string length and first half"
      ],
      "metadata": {
        "id": "y1LabVEDha1G"
      }
    },
    {
      "cell_type": "code",
      "source": [
        "str=\"welcome to python \"\n",
        "len(str)#question a\n",
        "str[0:9]#question b"
      ],
      "metadata": {
        "colab": {
          "base_uri": "https://localhost:8080/",
          "height": 35
        },
        "id": "q1UScqBXhaI9",
        "outputId": "713e9d55-b120-4c20-fa5d-06bf65ec87e3"
      },
      "execution_count": null,
      "outputs": [
        {
          "output_type": "execute_result",
          "data": {
            "text/plain": [
              "'welcome t'"
            ],
            "application/vnd.google.colaboratory.intrinsic+json": {
              "type": "string"
            }
          },
          "metadata": {},
          "execution_count": 6
        }
      ]
    },
    {
      "cell_type": "markdown",
      "source": [
        "write a pgm to enter a tuple of integers(78,45,32,19,82,77,40,39)and change the third value to 100"
      ],
      "metadata": {
        "id": "SViITPyBiZ1g"
      }
    },
    {
      "cell_type": "code",
      "source": [
        "num_tuple=(78,45,32,19,82,77,40,39)\n",
        "num_list=list(num_tuple)\n",
        "type(num_tuple)\n",
        "type(num_list)\n",
        "num_list[2]=100\n",
        "print(num_list)\n",
        "num_tuple=tuple(num_list)\n",
        "print(num_tuple)"
      ],
      "metadata": {
        "colab": {
          "base_uri": "https://localhost:8080/"
        },
        "id": "BEqlR6s6h7Gs",
        "outputId": "019fb2f0-8a34-44ae-b079-c567b69b654d"
      },
      "execution_count": null,
      "outputs": [
        {
          "output_type": "stream",
          "name": "stdout",
          "text": [
            "[78, 45, 100, 19, 82, 77, 40, 39]\n",
            "(78, 45, 100, 19, 82, 77, 40, 39)\n"
          ]
        }
      ]
    },
    {
      "cell_type": "markdown",
      "source": [
        "list"
      ],
      "metadata": {
        "id": "CccJZXT5kUEv"
      }
    },
    {
      "cell_type": "code",
      "source": [
        "num_list=[19,32,10,55,31,32,94,29,10,65,77,40,40]\n",
        "print(num_list)\n",
        "num_list.remove(32)#question a\n",
        "print(num_list)\n",
        "print(num_list)\n",
        "del num_list[5]#question c\n",
        "print(num_list)\n",
        "num_list[9]=300#question d\n",
        "print(num_list)\n",
        "num_list[2]=200#question e\n",
        "print(num_list)\n",
        "len(num_list)\n",
        "sum1=sum(num_list)#question f\n",
        "print(sum1)\n",
        "max1=max(num_list)#question f\n",
        "print(max1)"
      ],
      "metadata": {
        "colab": {
          "base_uri": "https://localhost:8080/"
        },
        "id": "C3OCanZCj1O2",
        "outputId": "d3dcc6f0-7b76-4181-b3e6-e0600f1cf174"
      },
      "execution_count": null,
      "outputs": [
        {
          "output_type": "stream",
          "name": "stdout",
          "text": [
            "[19, 32, 10, 55, 31, 32, 94, 29, 10, 65, 77, 40, 40]\n",
            "[19, 10, 55, 31, 32, 94, 29, 10, 65, 77, 40, 40]\n",
            "[19, 10, 55, 31, 32, 94, 29, 10, 65, 77, 40, 40]\n",
            "[19, 10, 55, 31, 32, 29, 10, 65, 77, 40, 40]\n",
            "[19, 10, 55, 31, 32, 29, 10, 65, 77, 300, 40]\n",
            "[19, 10, 200, 31, 32, 29, 10, 65, 77, 300, 40]\n",
            "813\n",
            "300\n"
          ]
        }
      ]
    },
    {
      "cell_type": "markdown",
      "source": [
        "5 The day has been Long"
      ],
      "metadata": {
        "id": "ngsMvNGItGOD"
      }
    },
    {
      "cell_type": "code",
      "source": [
        "str1=\"The day has been Long\"\n",
        "dup_sentense=(str1 + \"     \")*4     #sentence with space\n",
        "print(dup_sentense)"
      ],
      "metadata": {
        "colab": {
          "base_uri": "https://localhost:8080/"
        },
        "id": "aQ1hI_mGlUpU",
        "outputId": "3907c1c2-66d7-4cb6-dd32-c173ce0cca87"
      },
      "execution_count": null,
      "outputs": [
        {
          "output_type": "stream",
          "name": "stdout",
          "text": [
            "The day has been Long     The day has been Long     The day has been Long     The day has been Long     \n"
          ]
        }
      ]
    },
    {
      "cell_type": "code",
      "source": [
        "str1=\"The day has been Long\"\n",
        "dup_sentense=(str1 + \" \\n\\n \")*3     #sentence with newline\n",
        "print(dup_sentense)\n"
      ],
      "metadata": {
        "colab": {
          "base_uri": "https://localhost:8080/"
        },
        "id": "iSPMfAxGttIq",
        "outputId": "4a72f3bd-bd7f-45a9-fd7e-f5d072bc8690"
      },
      "execution_count": null,
      "outputs": [
        {
          "output_type": "stream",
          "name": "stdout",
          "text": [
            "The day has been Long \n",
            "\n",
            " The day has been Long \n",
            "\n",
            " The day has been Long \n",
            "\n",
            " \n"
          ]
        }
      ]
    },
    {
      "cell_type": "markdown",
      "source": [
        "modify the string with index 7 A"
      ],
      "metadata": {
        "id": "qve3-5tBKgV0"
      }
    },
    {
      "cell_type": "code",
      "source": [
        "str1=\"The day has been Long\"\n",
        "print(str2)"
      ],
      "metadata": {
        "colab": {
          "base_uri": "https://localhost:8080/"
        },
        "id": "lbJs4S7lKfiA",
        "outputId": "79e1278f-7f7c-4a1d-a3d6-0cb19e3fa5ae"
      },
      "execution_count": null,
      "outputs": [
        {
          "output_type": "stream",
          "name": "stdout",
          "text": [
            "The day has been Long\n"
          ]
        }
      ]
    },
    {
      "cell_type": "markdown",
      "source": [
        "string from 4 to 15"
      ],
      "metadata": {
        "id": "Z1quhLPNNxIY"
      }
    },
    {
      "cell_type": "code",
      "source": [
        "str1[4:15]"
      ],
      "metadata": {
        "id": "4wSnHcWZKusZ",
        "colab": {
          "base_uri": "https://localhost:8080/",
          "height": 35
        },
        "outputId": "4afa2d0b-7c16-41c1-d977-69681f790ab9"
      },
      "execution_count": 172,
      "outputs": [
        {
          "output_type": "execute_result",
          "data": {
            "text/plain": [
              "'day has bee'"
            ],
            "application/vnd.google.colaboratory.intrinsic+json": {
              "type": "string"
            }
          },
          "metadata": {},
          "execution_count": 172
        }
      ]
    }
  ]
}