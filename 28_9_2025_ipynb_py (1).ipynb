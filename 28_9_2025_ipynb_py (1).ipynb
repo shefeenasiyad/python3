{
  "nbformat": 4,
  "nbformat_minor": 0,
  "metadata": {
    "colab": {
      "provenance": []
    },
    "kernelspec": {
      "name": "python3",
      "display_name": "Python 3"
    },
    "language_info": {
      "name": "python"
    }
  },
  "cells": [
    {
      "cell_type": "markdown",
      "source": [
        " Day 3\n",
        " Dictionery and conditional statements"
      ],
      "metadata": {
        "id": "vp8J87tEHvlm"
      }
    },
    {
      "cell_type": "code",
      "execution_count": null,
      "metadata": {
        "id": "8f6UGysTHDbu",
        "colab": {
          "base_uri": "https://localhost:8080/"
        },
        "outputId": "47e17ef3-a0bd-4a90-c774-d80de268937e"
      },
      "outputs": [
        {
          "output_type": "stream",
          "name": "stdout",
          "text": [
            "{'brand': 'ford', 'model': 'mustang', 'year': 1964}\n"
          ]
        }
      ],
      "source": [
        "#{key:value}#key:value pair\n",
        "car={\"brand\":\"ford\",\"model\":\"mustang\",\"year\":1964}#key should be unique but not values\n",
        "print(car)"
      ]
    },
    {
      "cell_type": "code",
      "source": [
        "car[\"brand\"]\n",
        "#car[\"model\"]\n",
        "#car[\"year\"]"
      ],
      "metadata": {
        "colab": {
          "base_uri": "https://localhost:8080/",
          "height": 35
        },
        "id": "wOLW6xIbMFOq",
        "outputId": "d270ddd7-c6e4-4ce1-935c-837a92a57196"
      },
      "execution_count": null,
      "outputs": [
        {
          "output_type": "execute_result",
          "data": {
            "text/plain": [
              "'ford'"
            ],
            "application/vnd.google.colaboratory.intrinsic+json": {
              "type": "string"
            }
          },
          "metadata": {},
          "execution_count": 16
        }
      ]
    },
    {
      "cell_type": "code",
      "source": [
        "print(len(car))#it shows how many key value pairs\n",
        "type(car)"
      ],
      "metadata": {
        "colab": {
          "base_uri": "https://localhost:8080/"
        },
        "id": "QMPfFKjxNNkJ",
        "outputId": "222643db-3143-40d8-f685-3c2efc0089e6"
      },
      "execution_count": null,
      "outputs": [
        {
          "output_type": "stream",
          "name": "stdout",
          "text": [
            "3\n"
          ]
        },
        {
          "output_type": "execute_result",
          "data": {
            "text/plain": [
              "dict"
            ]
          },
          "metadata": {},
          "execution_count": 18
        }
      ]
    },
    {
      "cell_type": "code",
      "source": [
        "employee=dict(name=\"shefy\",age=34,salary=50000)\n",
        "employee"
      ],
      "metadata": {
        "colab": {
          "base_uri": "https://localhost:8080/"
        },
        "id": "CQuC97CjNzPq",
        "outputId": "13514156-1532-4bfe-fe1a-8742a7f46655"
      },
      "execution_count": null,
      "outputs": [
        {
          "output_type": "execute_result",
          "data": {
            "text/plain": [
              "{'name': 'shefy', 'age': 34, 'salary': 50000}"
            ]
          },
          "metadata": {},
          "execution_count": 21
        }
      ]
    },
    {
      "cell_type": "code",
      "source": [
        "employee=dict(name=\"shefy\",age=34,salary=50000)\n",
        "employee[\"name\"]"
      ],
      "metadata": {
        "colab": {
          "base_uri": "https://localhost:8080/",
          "height": 35
        },
        "id": "xhojj_xOy-m4",
        "outputId": "9bc62f5a-b2f1-41ba-a7c9-5526f3ad3697"
      },
      "execution_count": null,
      "outputs": [
        {
          "output_type": "execute_result",
          "data": {
            "text/plain": [
              "'shefy'"
            ],
            "application/vnd.google.colaboratory.intrinsic+json": {
              "type": "string"
            }
          },
          "metadata": {},
          "execution_count": 7
        }
      ]
    },
    {
      "cell_type": "code",
      "source": [
        "employee.get(\"salary\")"
      ],
      "metadata": {
        "colab": {
          "base_uri": "https://localhost:8080/"
        },
        "id": "TGNi8AMvzWu_",
        "outputId": "29c2e8b7-2fb7-48df-ef20-fca1b5127508"
      },
      "execution_count": null,
      "outputs": [
        {
          "output_type": "execute_result",
          "data": {
            "text/plain": [
              "50000"
            ]
          },
          "metadata": {},
          "execution_count": 5
        }
      ]
    },
    {
      "cell_type": "markdown",
      "source": [
        "keys() for accessing the keys"
      ],
      "metadata": {
        "id": "3sfV2f201eet"
      }
    },
    {
      "cell_type": "code",
      "source": [
        "a=employee.keys()\n",
        "a"
      ],
      "metadata": {
        "colab": {
          "base_uri": "https://localhost:8080/"
        },
        "id": "oWJEyRtM0Mf0",
        "outputId": "552f7e4b-1296-4b53-bd10-0da01dad2dbd"
      },
      "execution_count": null,
      "outputs": [
        {
          "output_type": "execute_result",
          "data": {
            "text/plain": [
              "dict_keys(['name', 'age', 'salary'])"
            ]
          },
          "metadata": {},
          "execution_count": 8
        }
      ]
    },
    {
      "cell_type": "markdown",
      "source": [
        "values() for accessing the values"
      ],
      "metadata": {
        "id": "77q68fzP1rR8"
      }
    },
    {
      "cell_type": "code",
      "source": [
        "b=employee.values()\n",
        "b\n",
        "employee[\"name\"]=\"siyad\"\n",
        "employee.values()"
      ],
      "metadata": {
        "colab": {
          "base_uri": "https://localhost:8080/"
        },
        "id": "V3aSYsyc0h4u",
        "outputId": "536075f5-b914-421f-a5d1-e0b89fbc164b"
      },
      "execution_count": null,
      "outputs": [
        {
          "output_type": "execute_result",
          "data": {
            "text/plain": [
              "dict_values(['siyad', 34, 50000])"
            ]
          },
          "metadata": {},
          "execution_count": 12
        }
      ]
    },
    {
      "cell_type": "markdown",
      "source": [
        "for selecting key value pair using items()"
      ],
      "metadata": {
        "id": "lVhqNjcp2A8f"
      }
    },
    {
      "cell_type": "code",
      "source": [
        "c=employee.items()\n",
        "c\n",
        "type(a)\n",
        "#type(b)\n",
        "#type(c)"
      ],
      "metadata": {
        "colab": {
          "base_uri": "https://localhost:8080/"
        },
        "id": "e8zNCklB2Imj",
        "outputId": "8b148689-08f9-4064-ba15-512ccd2b8e1b"
      },
      "execution_count": null,
      "outputs": [
        {
          "output_type": "execute_result",
          "data": {
            "text/plain": [
              "dict_keys"
            ]
          },
          "metadata": {},
          "execution_count": 20
        }
      ]
    },
    {
      "cell_type": "markdown",
      "source": [
        "update()for updating the dictionery( we can change more than one items at a time using update function)"
      ],
      "metadata": {
        "id": "rdRtpEkh3zuh"
      }
    },
    {
      "cell_type": "code",
      "source": [
        "employee.update({\"salary\":60000,\"dept\":\"IT\"})#using update function\n",
        "employee[\"place\"]=\"trivandrum\"#using direct assignment\n",
        "employee[\"dummy\"]=\" \"\n",
        "employee"
      ],
      "metadata": {
        "colab": {
          "base_uri": "https://localhost:8080/"
        },
        "id": "WZep0Jlw3559",
        "outputId": "76454e08-6cd6-4988-dde2-cccf4e86ef23"
      },
      "execution_count": null,
      "outputs": [
        {
          "output_type": "execute_result",
          "data": {
            "text/plain": [
              "{'name': 'siyad',\n",
              " 'age': 34,\n",
              " 'salary': 60000,\n",
              " 'dept': 'IT',\n",
              " 'place': 'trivandrum',\n",
              " 'dummy': ' '}"
            ]
          },
          "metadata": {},
          "execution_count": 29
        }
      ]
    },
    {
      "cell_type": "markdown",
      "source": [
        "popitem() deleted the last item in the dictionery//pop() specified item we can delete// del used to delete"
      ],
      "metadata": {
        "id": "uDE9qSOB8NvE"
      }
    },
    {
      "cell_type": "code",
      "source": [
        "employee.popitem()\n",
        "employee.pop(\"age\")\n",
        "del employee[\"salary\"]\n",
        "employee\n",
        "#del employee\n",
        "employee"
      ],
      "metadata": {
        "colab": {
          "base_uri": "https://localhost:8080/",
          "height": 193
        },
        "id": "0cTXLQr970xd",
        "outputId": "972e5eb3-a7fc-4f51-cdb9-cb6983c50078"
      },
      "execution_count": null,
      "outputs": [
        {
          "output_type": "error",
          "ename": "NameError",
          "evalue": "name 'employee' is not defined",
          "traceback": [
            "\u001b[0;31m---------------------------------------------------------------------------\u001b[0m",
            "\u001b[0;31mNameError\u001b[0m                                 Traceback (most recent call last)",
            "\u001b[0;32m/tmp/ipython-input-2709261964.py\u001b[0m in \u001b[0;36m<cell line: 0>\u001b[0;34m()\u001b[0m\n\u001b[1;32m      3\u001b[0m \u001b[0;31m#del employee[\"salary\"]\u001b[0m\u001b[0;34m\u001b[0m\u001b[0;34m\u001b[0m\u001b[0m\n\u001b[1;32m      4\u001b[0m \u001b[0;31m#employee\u001b[0m\u001b[0;34m\u001b[0m\u001b[0;34m\u001b[0m\u001b[0m\n\u001b[0;32m----> 5\u001b[0;31m \u001b[0;32mdel\u001b[0m \u001b[0memployee\u001b[0m\u001b[0;34m\u001b[0m\u001b[0;34m\u001b[0m\u001b[0m\n\u001b[0m\u001b[1;32m      6\u001b[0m \u001b[0memployee\u001b[0m\u001b[0;34m\u001b[0m\u001b[0;34m\u001b[0m\u001b[0m\n",
            "\u001b[0;31mNameError\u001b[0m: name 'employee' is not defined"
          ]
        }
      ]
    },
    {
      "cell_type": "code",
      "source": [
        "employee={\"name\":\"siyad\",\"age\":28,\"dept\":\"IT\"}\n",
        "employee\n",
        "employee.clear()\n",
        "employee"
      ],
      "metadata": {
        "colab": {
          "base_uri": "https://localhost:8080/"
        },
        "id": "8WfNKoeP-4YG",
        "outputId": "e4f608c5-d4f8-4abd-9d5c-6f3943e165a2"
      },
      "execution_count": null,
      "outputs": [
        {
          "output_type": "execute_result",
          "data": {
            "text/plain": [
              "{}"
            ]
          },
          "metadata": {},
          "execution_count": 40
        }
      ]
    },
    {
      "cell_type": "code",
      "source": [
        "\n",
        "employee={\"name\":\"siyad\",\"age\":28,\"dept\":\"IT\"}\n",
        "employee[\"fname\"]=\"km\"\n",
        "employee"
      ],
      "metadata": {
        "colab": {
          "base_uri": "https://localhost:8080/"
        },
        "id": "afy_S81B_6wC",
        "outputId": "a61704cd-59af-423c-ef07-99330757b7c4"
      },
      "execution_count": null,
      "outputs": [
        {
          "output_type": "execute_result",
          "data": {
            "text/plain": [
              "{'name': 'siyad', 'age': 28, 'dept': 'IT', 'fname': 'km'}"
            ]
          },
          "metadata": {},
          "execution_count": 43
        }
      ]
    },
    {
      "cell_type": "markdown",
      "source": [
        "nested dictionery"
      ],
      "metadata": {
        "id": "nsq50vyMBus4"
      }
    },
    {
      "cell_type": "code",
      "source": [
        "employees={\n",
        "    \"emp1\":\n",
        "     {\n",
        "         \"name\":\"shefy\",\n",
        "         \"age\":34,\n",
        "          \"dept\":\"IT\"},\n",
        "\n",
        " \"emp2\":\n",
        "  {\n",
        "      \"name\":\"siyad\",\n",
        "      \"age\":36,\n",
        "      \"dept\":\"finance\"\n",
        "   },\n",
        "  \"emp3\":\n",
        "   {\n",
        "       \"name\":\"hibah\",\n",
        "       \"age\":25,\n",
        "       \"dept\":\"engineering\"}\n",
        "}\n",
        "employees"
      ],
      "metadata": {
        "colab": {
          "base_uri": "https://localhost:8080/"
        },
        "id": "zU5etcqBBRNU",
        "outputId": "95e7ed9f-e41d-459b-cff8-1b1f21f4fcf2"
      },
      "execution_count": null,
      "outputs": [
        {
          "output_type": "execute_result",
          "data": {
            "text/plain": [
              "{'emp1': {'name': 'shefy', 'age': 34, 'dept': 'IT'},\n",
              " 'emp2': {'name': 'siyad', 'age': 36, 'dept': 'finance'},\n",
              " 'emp3': {'name': 'hibah', 'age': 25, 'dept': 'engineering'}}"
            ]
          },
          "metadata": {},
          "execution_count": 56
        }
      ]
    },
    {
      "cell_type": "code",
      "source": [
        "employees[\"emp3\"]\n",
        "employees.get(\"emp2\")\n"
      ],
      "metadata": {
        "colab": {
          "base_uri": "https://localhost:8080/"
        },
        "id": "8KPq5HZhDPod",
        "outputId": "7728b4fa-e691-49ad-83f8-ab9962776324"
      },
      "execution_count": null,
      "outputs": [
        {
          "output_type": "execute_result",
          "data": {
            "text/plain": [
              "{'name': 'siyad', 'age': 36, 'dept': 'finance'}"
            ]
          },
          "metadata": {},
          "execution_count": 59
        }
      ]
    },
    {
      "cell_type": "code",
      "source": [
        "employees[\"emp3\"][\"dept\"]#to select a specified value from the nested directory"
      ],
      "metadata": {
        "colab": {
          "base_uri": "https://localhost:8080/",
          "height": 35
        },
        "id": "d7EgzuvsJ-eS",
        "outputId": "6c07b7ad-9e01-4d67-d8cc-0f52e4462917"
      },
      "execution_count": null,
      "outputs": [
        {
          "output_type": "execute_result",
          "data": {
            "text/plain": [
              "'engineering'"
            ],
            "application/vnd.google.colaboratory.intrinsic+json": {
              "type": "string"
            }
          },
          "metadata": {},
          "execution_count": 68
        }
      ]
    },
    {
      "cell_type": "code",
      "source": [
        "employees.get(\"emp3\")[\"dept\"]"
      ],
      "metadata": {
        "colab": {
          "base_uri": "https://localhost:8080/",
          "height": 35
        },
        "id": "zFmihywnLtEX",
        "outputId": "da78b578-0211-49a3-bc3e-7155eab9d8f0"
      },
      "execution_count": null,
      "outputs": [
        {
          "output_type": "execute_result",
          "data": {
            "text/plain": [
              "'engineering'"
            ],
            "application/vnd.google.colaboratory.intrinsic+json": {
              "type": "string"
            }
          },
          "metadata": {},
          "execution_count": 70
        }
      ]
    },
    {
      "cell_type": "code",
      "source": [],
      "metadata": {
        "id": "MH_htqtHLK_Q"
      },
      "execution_count": null,
      "outputs": []
    },
    {
      "cell_type": "code",
      "source": [
        "empl1={\"name\":\"shefy\",\"age\":25,\"salary\":30000,\"dept\":\"IT\"}\n",
        "empl2={\"name\":\"siyad\",\"age\":35,\"salary\":40000,\"dept\":\"engineering\"}\n",
        "empl3={\"name\":\"hibah\",\"age\":22,\"salary\":50000,\"dept\":\"mechanical\"}\n",
        "\n",
        "new_employees={\n",
        "    \"new_empl1\":empl1,\n",
        "    \"new_empl2\":empl2,\n",
        "    \"new_empl3\":empl3\n",
        "\n",
        "}\n",
        "new_employees[\"new_empl1\"][\"dept\"]#new employeesile specified employyeede dept\n",
        "new_employees.get(\"new_empl1\")[\"dept\"]\n"
      ],
      "metadata": {
        "id": "aDx0v2RbOJ8T",
        "colab": {
          "base_uri": "https://localhost:8080/",
          "height": 35
        },
        "outputId": "09266a07-860f-4a74-803b-7c6b82fdc0e7"
      },
      "execution_count": null,
      "outputs": [
        {
          "output_type": "execute_result",
          "data": {
            "text/plain": [
              "'IT'"
            ],
            "application/vnd.google.colaboratory.intrinsic+json": {
              "type": "string"
            }
          },
          "metadata": {},
          "execution_count": 92
        }
      ]
    },
    {
      "cell_type": "markdown",
      "source": [
        "program flow control"
      ],
      "metadata": {
        "id": "2_thCcrTX7Td"
      }
    },
    {
      "cell_type": "code",
      "source": [
        "acc_balance=5000\n",
        "withdraw=20000\n",
        "if acc_balance>=withdraw:\n",
        "  balance=acc_balance-withdraw\n",
        "  print(f\"your transaction successfull.you have {balance}  remaining in the account,and you withdrawed {withdraw} from your accont\")\n",
        "else:\n",
        "   print(\" Insufficient balance\")"
      ],
      "metadata": {
        "colab": {
          "base_uri": "https://localhost:8080/"
        },
        "id": "TyTMbITqQOsc",
        "outputId": "826d52d8-c18c-4731-d32a-8660feed7d3a"
      },
      "execution_count": null,
      "outputs": [
        {
          "output_type": "stream",
          "name": "stdout",
          "text": [
            " Insufficient balance\n"
          ]
        }
      ]
    },
    {
      "cell_type": "markdown",
      "source": [
        "IF ELSE"
      ],
      "metadata": {
        "id": "drCvBXgeehUV"
      }
    },
    {
      "cell_type": "code",
      "source": [
        "user=input(\"enter user name\\n\")\n",
        "password=input(\"enter your password\\n\")\n",
        "if user==\"admin\"and password==\"1234\":\n",
        "  print(\"login successful\")\n",
        "else:\n",
        "  print(\"Invalid credentials\")"
      ],
      "metadata": {
        "colab": {
          "base_uri": "https://localhost:8080/"
        },
        "id": "qHFau7EWcs_-",
        "outputId": "7778c54c-835e-43db-9641-29c04fc080ad"
      },
      "execution_count": null,
      "outputs": [
        {
          "output_type": "stream",
          "name": "stdout",
          "text": [
            "enter user name\n",
            "admin\n",
            "enter your password\n",
            "1234\n",
            "login successful\n"
          ]
        }
      ]
    },
    {
      "cell_type": "markdown",
      "source": [
        "elif"
      ],
      "metadata": {
        "id": "jvHGzgWIf1jk"
      }
    },
    {
      "cell_type": "code",
      "source": [
        "a=60\n",
        "if(a>=50):\n",
        "  print(\"high value\")\n",
        "elif(a>=30):\n",
        "  print(\"medium value\")\n",
        "elif(a>=15):\n",
        "  print(\"low value\")\n",
        "else:\n",
        "  print(\"least value\")"
      ],
      "metadata": {
        "id": "6EYxnNJJfxr4",
        "colab": {
          "base_uri": "https://localhost:8080/"
        },
        "outputId": "dde748f1-9771-402e-fadb-cf39ee6b4ef0"
      },
      "execution_count": null,
      "outputs": [
        {
          "output_type": "stream",
          "name": "stdout",
          "text": [
            "high value\n"
          ]
        }
      ]
    },
    {
      "cell_type": "code",
      "source": [
        " check_in_time=10\n",
        " if(check_in_time<=9):\n",
        "    print(\"You are on time\")\n",
        " elif(check_in_time>9 and check_in_time<10):\n",
        "    print(\"late entry\")\n",
        " else:\n",
        "    print(\"Half day leave\")\n"
      ],
      "metadata": {
        "colab": {
          "base_uri": "https://localhost:8080/"
        },
        "id": "yq6-BKf1YIJd",
        "outputId": "078fcd9b-b622-42bb-d5e0-ea54a733696d"
      },
      "execution_count": null,
      "outputs": [
        {
          "output_type": "stream",
          "name": "stdout",
          "text": [
            "Half day leave\n"
          ]
        }
      ]
    },
    {
      "cell_type": "markdown",
      "source": [],
      "metadata": {
        "id": "HZAAOMM0wBLc"
      }
    },
    {
      "cell_type": "markdown",
      "source": [
        "1. WRITE A PROGRAM TO CHECK WHETHER  THE NUMBER IS POSITIVE ,NEGATIVE OR ZERO"
      ],
      "metadata": {
        "id": "SXBM1ceswaQl"
      }
    },
    {
      "cell_type": "code",
      "source": [
        "number=-56\n",
        "if(number<0):\n",
        "  print(\"This is a negative number \")\n",
        "elif(number>0):\n",
        "  print(\"The number is a positive number\")\n",
        "elif(number==0):\n",
        "  print(\"The number is Zero\")\n",
        "else:\n",
        "  print(\"Try with a new number\")"
      ],
      "metadata": {
        "colab": {
          "base_uri": "https://localhost:8080/"
        },
        "id": "QqQSzZjWbkH6",
        "outputId": "a90f829a-1dd3-4745-b0a1-9c1297724bf6"
      },
      "execution_count": null,
      "outputs": [
        {
          "output_type": "stream",
          "name": "stdout",
          "text": [
            "This is a negative number \n"
          ]
        }
      ]
    },
    {
      "cell_type": "markdown",
      "source": [
        "2.APPLY DISCOUNTS BASED ON SHOPPING TOTAL PRICE ?\n",
        "GREATER THAN 5000,GIVE 25% OFF,GREATER THAN 2000 GIVE 10% OTHERWISE NO DISCOUNT"
      ],
      "metadata": {
        "id": "1iCcqnezw4WE"
      }
    },
    {
      "cell_type": "code",
      "source": [
        "price=5500\n",
        "if(price>=5000):\n",
        "  disc_price=price*.25\n",
        "  new_price=price-disc_price\n",
        "  print(f\"Congrats you got 25% of discount ! you have to pay only {new_price} rupees\")\n",
        "elif(price>=2000):\n",
        "  disc_price=price*.10\n",
        "  new_price=price-disc_price\n",
        "  print(f\"Congrats you got 10% of discount ! you have to pay only {new_price}rupees \")\n",
        "else:\n",
        "  print(\"Thank you for shopping with us and try our discount schemes\")\n"
      ],
      "metadata": {
        "colab": {
          "base_uri": "https://localhost:8080/"
        },
        "id": "UsWJrDzCi0rf",
        "outputId": "ab859ec3-dbc5-44b9-c7f7-d2d153c05283"
      },
      "execution_count": null,
      "outputs": [
        {
          "output_type": "stream",
          "name": "stdout",
          "text": [
            "Congrats you got 25% of discount ! you have to pay only 4125.0 rupees\n"
          ]
        }
      ]
    },
    {
      "cell_type": "markdown",
      "source": [
        "MOVIE TICKET PRICING SYSTEM:\n",
        "CREATE A PROGRAM TO CALCULATE THE TICKET PRICE BASED ON THE FOLLOWING CONDITIONS\n",
        "AGE<5->FREE TICKET\n",
        "AGE 5-12->150\n",
        "AGE 13-59->250\n",
        "AGE 60+->120 (SENIOR CITIZEN DISCOUNT)\n",
        "*ALSO IF ITS FRIDAY,EVERYONE GETS A 20% DISCOUNT*"
      ],
      "metadata": {
        "id": "wY3Y5kszxcpp"
      }
    },
    {
      "cell_type": "code",
      "source": [
        "age=int(input(\"Enter your age\"))\n",
        "day=input(\"Enter the day\")\n",
        "if(age<=5):\n",
        "  print(\"Free ticket\")\n",
        "elif(age>5 and age<=12):\n",
        "  ticket_price=150\n",
        "  if(day==\"friday\"):\n",
        "      disc_price=ticket_price-(150*.20)\n",
        "      print(f\"Today is friday and you have to get extra 20% off on the movie ticket you just pay {disc_price}\")\n",
        "  else:\n",
        "    print(f\"You have to pay {ticket_price}\")\n",
        "elif(age>=13 and age<=59):\n",
        "    ticket_price=250\n",
        "    if(day==\"friday\"):\n",
        "      disc_price=ticket_price-(250*.20)\n",
        "      print(f\"Today is friday you got 20% discount,and you have to pay only{disc_price}\")\n",
        "    else:\n",
        "      print(f\"You have to pay{ticket_price}\")\n",
        "elif(age>=60):\n",
        "    ticket_price=120\n",
        "    if(day==\"friday\"):\n",
        "      disc_price=ticket_price-(120*.20)\n",
        "      print(f\"Today is friday and you got 20% discount and you have to pay only{disc_price}\")\n",
        "    else:\n",
        "        print(f\"You have to pay {ticket_price}\")"
      ],
      "metadata": {
        "colab": {
          "base_uri": "https://localhost:8080/"
        },
        "id": "_yb1m1SFzZLd",
        "outputId": "f2f39d00-0433-4db1-8310-913180c9a326"
      },
      "execution_count": null,
      "outputs": [
        {
          "output_type": "stream",
          "name": "stdout",
          "text": [
            "Enter your age65\n",
            "Enter the daysaturday\n",
            "You have to pay 120\n"
          ]
        }
      ]
    },
    {
      "cell_type": "code",
      "source": [],
      "metadata": {
        "id": "ezvBLOwj7uNj"
      },
      "execution_count": null,
      "outputs": []
    },
    {
      "cell_type": "markdown",
      "source": [
        "SHOPPING CART SYSTEM\n"
      ],
      "metadata": {
        "id": "6KVmoR_k8FH1"
      }
    },
    {
      "cell_type": "code",
      "source": [
        "cart={\"Milk\":45,\"Bread\":30,\"eggs\":60,\"Butter\":150}\n",
        "#cart[\"buiscuit\"]=24  #adding to the cart\n",
        "#cart[\"chocolates\"]=35\n",
        "#cart[\"Milk\"]=48      #updating the price of milk\n",
        "cart.update({\"biscuites\":25,\"icecream\":50})\n",
        "#cart.update({\"biscuites\":25,\"icecream\":50})\n",
        "print(cart)\n",
        "#cart.popitem()\n",
        "#print(cart)\n",
        "#print(len(cart))\n",
        "value=cart.values()\n",
        "print(value)"
      ],
      "metadata": {
        "colab": {
          "base_uri": "https://localhost:8080/"
        },
        "id": "jhzvU36U-LIF",
        "outputId": "70189be7-6529-4859-f814-ca6b79318b9a"
      },
      "execution_count": null,
      "outputs": [
        {
          "output_type": "stream",
          "name": "stdout",
          "text": [
            "{'Milk': 45, 'Bread': 30, 'eggs': 60, 'Butter': 150, 'biscuites': 25, 'icecream': 50}\n",
            "dict_values([45, 30, 60, 150, 25, 50])\n"
          ]
        }
      ]
    },
    {
      "cell_type": "markdown",
      "source": [
        "movie ratings"
      ],
      "metadata": {
        "id": "NJkcm-GYTbXp"
      }
    },
    {
      "cell_type": "code",
      "source": [
        "movies={\"inception\":9.0,\"Titanic\":7.8,\"Avatar\":8.2,\"Interstellar\":8.6,\"The dark night\":9.1}\n",
        "#print(movies)\n",
        "movie_ratings=movies.values()\n",
        "print(movie_ratings)\n",
        "movies[\"Titanic\"]=8.3\n",
        "#print(movies)\n",
        "movies.update({\"Oppenheimer\":9.2})\n",
        "print(movies)\n",
        "del movies[\"Avatar\"]\n",
        "print(movies)"
      ],
      "metadata": {
        "colab": {
          "base_uri": "https://localhost:8080/"
        },
        "id": "KFVJLA0v-9nN",
        "outputId": "f9975ba2-8fef-465d-d20d-5c4d3aeb7878"
      },
      "execution_count": null,
      "outputs": [
        {
          "output_type": "stream",
          "name": "stdout",
          "text": [
            "dict_values([9.0, 7.8, 8.2, 8.6, 9.1])\n",
            "{'inception': 9.0, 'Titanic': 8.3, 'Avatar': 8.2, 'Interstellar': 8.6, 'The dark night': 9.1, 'Oppenheimer': 9.2}\n",
            "{'inception': 9.0, 'Titanic': 8.3, 'Interstellar': 8.6, 'The dark night': 9.1, 'Oppenheimer': 9.2}\n"
          ]
        }
      ]
    },
    {
      "cell_type": "code",
      "source": [],
      "metadata": {
        "id": "RGERmv9MOVN4"
      },
      "execution_count": null,
      "outputs": []
    }
  ]
}